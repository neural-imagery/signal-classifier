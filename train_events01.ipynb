{
 "cells": [
  {
   "cell_type": "code",
   "execution_count": 48,
   "id": "7b06dd0c-7b72-41ac-a047-63008357a33a",
   "metadata": {},
   "outputs": [
    {
     "name": "stdout",
     "output_type": "stream",
     "text": [
      "The autoreload extension is already loaded. To reload it, use:\n",
      "  %reload_ext autoreload\n"
     ]
    }
   ],
   "source": [
    "%load_ext autoreload\n",
    "%autoreload 2"
   ]
  },
  {
   "cell_type": "code",
   "execution_count": 72,
   "id": "b55be5b6-6c03-4523-b259-4b49ccd65091",
   "metadata": {},
   "outputs": [],
   "source": [
    "import os\n",
    "import sys\n",
    "import json\n",
    "import argparse\n",
    "import numpy as np\n",
    "import math\n",
    "import time\n",
    "import random\n",
    "from tqdm import tqdm\n",
    "import matplotlib.pyplot as plt\n",
    "import scipy.io\n",
    "import scipy.fft as fft\n",
    "import nirsimple as ns\n",
    "import mne\n",
    "from scipy.signal import butter, filtfilt\n",
    "from sklearn.metrics import accuracy_score\n",
    "\n",
    "from src import sklearn_models, torch_models, featurize\n",
    "import torch"
   ]
  },
  {
   "cell_type": "markdown",
   "id": "499722bf-763f-406f-81d0-21a52e9ef99c",
   "metadata": {},
   "source": [
    "## Load events from one file"
   ]
  },
  {
   "cell_type": "code",
   "execution_count": 80,
   "id": "c5acc0ed",
   "metadata": {},
   "outputs": [],
   "source": [
    "from sklearn.model_selection import train_test_split"
   ]
  },
  {
   "cell_type": "code",
   "execution_count": 107,
   "id": "a2fbc041",
   "metadata": {},
   "outputs": [
    {
     "name": "stdout",
     "output_type": "stream",
     "text": [
      "{0, 4}\n",
      "{1, 3, 4}\n",
      "0.3923076923076923\n"
     ]
    }
   ],
   "source": [
    "events = []\n",
    "labels = []\n",
    "# for run in ['2','3','5','7']:\n",
    "#     events_run = np.load(f\"events/events_run{run}.npy\")\n",
    "#     labels_run = np.load(f\"events/event_labels_run{run}.npy\")\n",
    "#     events += [i.flatten() for i in events_run]\n",
    "#     labels += list(labels_run)\n",
    "\n",
    "for run in ['4','6']:\n",
    "    events_run = np.load(f\"events/events_run{run}-forhead.npy\")\n",
    "    labels_run = np.load(f\"events/event_labels_run{run}-forhead.npy\")\n",
    "    print(set(labels_run))\n",
    "    events += [i.flatten() for i in events_run]\n",
    "    labels += list(labels_run)\n",
    "    \n",
    "counts,bins = np.histogram(labels,5)\n",
    "print(counts[0]/sum(counts))"
   ]
  },
  {
   "cell_type": "code",
   "execution_count": 108,
   "id": "a1a99a31",
   "metadata": {},
   "outputs": [],
   "source": [
    "# X_train, X_test, y_train, y_test = [],[],[],[]\n",
    "# for run in ['2','3']:\n",
    "#     events_run = np.load(f\"events/events_run{run}.npy\")\n",
    "#     labels_run = np.load(f\"events/event_labels_run{run}.npy\")\n",
    "#     X_train += [i.flatten() for i in events_run]\n",
    "#     y_train += list(labels_run)\n",
    "    \n",
    "# for run in ['5','7']:\n",
    "#     events_run = np.load(f\"events/events_run{run}.npy\")\n",
    "#     labels_run = np.load(f\"events/event_labels_run{run}.npy\")\n",
    "#     X_test += [i.flatten() for i in events_run]\n",
    "#     y_test += list(labels_run)"
   ]
  },
  {
   "cell_type": "code",
   "execution_count": 109,
   "id": "fd571ea2",
   "metadata": {},
   "outputs": [],
   "source": [
    "X_train, X_test, y_train, y_test = train_test_split(events, labels, test_size=0.3, random_state=42)\n"
   ]
  },
  {
   "cell_type": "code",
   "execution_count": 110,
   "id": "5c674da7",
   "metadata": {},
   "outputs": [
    {
     "data": {
      "text/html": [
       "<style>#sk-container-id-12 {color: black;}#sk-container-id-12 pre{padding: 0;}#sk-container-id-12 div.sk-toggleable {background-color: white;}#sk-container-id-12 label.sk-toggleable__label {cursor: pointer;display: block;width: 100%;margin-bottom: 0;padding: 0.3em;box-sizing: border-box;text-align: center;}#sk-container-id-12 label.sk-toggleable__label-arrow:before {content: \"▸\";float: left;margin-right: 0.25em;color: #696969;}#sk-container-id-12 label.sk-toggleable__label-arrow:hover:before {color: black;}#sk-container-id-12 div.sk-estimator:hover label.sk-toggleable__label-arrow:before {color: black;}#sk-container-id-12 div.sk-toggleable__content {max-height: 0;max-width: 0;overflow: hidden;text-align: left;background-color: #f0f8ff;}#sk-container-id-12 div.sk-toggleable__content pre {margin: 0.2em;color: black;border-radius: 0.25em;background-color: #f0f8ff;}#sk-container-id-12 input.sk-toggleable__control:checked~div.sk-toggleable__content {max-height: 200px;max-width: 100%;overflow: auto;}#sk-container-id-12 input.sk-toggleable__control:checked~label.sk-toggleable__label-arrow:before {content: \"▾\";}#sk-container-id-12 div.sk-estimator input.sk-toggleable__control:checked~label.sk-toggleable__label {background-color: #d4ebff;}#sk-container-id-12 div.sk-label input.sk-toggleable__control:checked~label.sk-toggleable__label {background-color: #d4ebff;}#sk-container-id-12 input.sk-hidden--visually {border: 0;clip: rect(1px 1px 1px 1px);clip: rect(1px, 1px, 1px, 1px);height: 1px;margin: -1px;overflow: hidden;padding: 0;position: absolute;width: 1px;}#sk-container-id-12 div.sk-estimator {font-family: monospace;background-color: #f0f8ff;border: 1px dotted black;border-radius: 0.25em;box-sizing: border-box;margin-bottom: 0.5em;}#sk-container-id-12 div.sk-estimator:hover {background-color: #d4ebff;}#sk-container-id-12 div.sk-parallel-item::after {content: \"\";width: 100%;border-bottom: 1px solid gray;flex-grow: 1;}#sk-container-id-12 div.sk-label:hover label.sk-toggleable__label {background-color: #d4ebff;}#sk-container-id-12 div.sk-serial::before {content: \"\";position: absolute;border-left: 1px solid gray;box-sizing: border-box;top: 0;bottom: 0;left: 50%;z-index: 0;}#sk-container-id-12 div.sk-serial {display: flex;flex-direction: column;align-items: center;background-color: white;padding-right: 0.2em;padding-left: 0.2em;position: relative;}#sk-container-id-12 div.sk-item {position: relative;z-index: 1;}#sk-container-id-12 div.sk-parallel {display: flex;align-items: stretch;justify-content: center;background-color: white;position: relative;}#sk-container-id-12 div.sk-item::before, #sk-container-id-12 div.sk-parallel-item::before {content: \"\";position: absolute;border-left: 1px solid gray;box-sizing: border-box;top: 0;bottom: 0;left: 50%;z-index: -1;}#sk-container-id-12 div.sk-parallel-item {display: flex;flex-direction: column;z-index: 1;position: relative;background-color: white;}#sk-container-id-12 div.sk-parallel-item:first-child::after {align-self: flex-end;width: 50%;}#sk-container-id-12 div.sk-parallel-item:last-child::after {align-self: flex-start;width: 50%;}#sk-container-id-12 div.sk-parallel-item:only-child::after {width: 0;}#sk-container-id-12 div.sk-dashed-wrapped {border: 1px dashed gray;margin: 0 0.4em 0.5em 0.4em;box-sizing: border-box;padding-bottom: 0.4em;background-color: white;}#sk-container-id-12 div.sk-label label {font-family: monospace;font-weight: bold;display: inline-block;line-height: 1.2em;}#sk-container-id-12 div.sk-label-container {text-align: center;}#sk-container-id-12 div.sk-container {/* jupyter's `normalize.less` sets `[hidden] { display: none; }` but bootstrap.min.css set `[hidden] { display: none !important; }` so we also need the `!important` here to be able to override the default hidden behavior on the sphinx rendered scikit-learn.org. See: https://github.com/scikit-learn/scikit-learn/issues/21755 */display: inline-block !important;position: relative;}#sk-container-id-12 div.sk-text-repr-fallback {display: none;}</style><div id=\"sk-container-id-12\" class=\"sk-top-container\"><div class=\"sk-text-repr-fallback\"><pre>RandomForestClassifier(random_state=42)</pre><b>In a Jupyter environment, please rerun this cell to show the HTML representation or trust the notebook. <br />On GitHub, the HTML representation is unable to render, please try loading this page with nbviewer.org.</b></div><div class=\"sk-container\" hidden><div class=\"sk-item\"><div class=\"sk-estimator sk-toggleable\"><input class=\"sk-toggleable__control sk-hidden--visually\" id=\"sk-estimator-id-12\" type=\"checkbox\" checked><label for=\"sk-estimator-id-12\" class=\"sk-toggleable__label sk-toggleable__label-arrow\">RandomForestClassifier</label><div class=\"sk-toggleable__content\"><pre>RandomForestClassifier(random_state=42)</pre></div></div></div></div></div>"
      ],
      "text/plain": [
       "RandomForestClassifier(random_state=42)"
      ]
     },
     "execution_count": 110,
     "metadata": {},
     "output_type": "execute_result"
    }
   ],
   "source": [
    "from sklearn.ensemble import RandomForestClassifier\n",
    "\n",
    "# Initialize the classifier\n",
    "clf = RandomForestClassifier(n_estimators=100, random_state=42)\n",
    "\n",
    "# Train the classifier\n",
    "clf.fit(X_train, y_train)\n"
   ]
  },
  {
   "cell_type": "code",
   "execution_count": 111,
   "id": "2e463ab4",
   "metadata": {},
   "outputs": [
    {
     "data": {
      "text/plain": [
       "(48,)"
      ]
     },
     "execution_count": 111,
     "metadata": {},
     "output_type": "execute_result"
    }
   ],
   "source": [
    "X_train[0].shape"
   ]
  },
  {
   "cell_type": "code",
   "execution_count": 112,
   "id": "9060b1ff",
   "metadata": {},
   "outputs": [
    {
     "name": "stdout",
     "output_type": "stream",
     "text": [
      "Accuracy: 40.17%\n",
      "              precision    recall  f1-score   support\n",
      "\n",
      "           0       0.66      0.78      0.71        49\n",
      "           1       0.00      0.00      0.00        19\n",
      "           3       0.33      0.38      0.36        21\n",
      "           4       0.04      0.04      0.04        28\n",
      "\n",
      "    accuracy                           0.40       117\n",
      "   macro avg       0.26      0.30      0.28       117\n",
      "weighted avg       0.34      0.40      0.37       117\n",
      "\n"
     ]
    }
   ],
   "source": [
    "# Predict using the test set\n",
    "y_pred = clf.predict(X_test)\n",
    "\n",
    "# Evaluate the classifier's performance\n",
    "from sklearn.metrics import accuracy_score, classification_report\n",
    "\n",
    "print(f\"Accuracy: {accuracy_score(y_test, y_pred)*100:.2f}%\")\n",
    "print(classification_report(y_test, y_pred))"
   ]
  },
  {
   "cell_type": "code",
   "execution_count": null,
   "id": "517044d8",
   "metadata": {},
   "outputs": [],
   "source": []
  },
  {
   "cell_type": "code",
   "execution_count": null,
   "id": "f4eaa3ee",
   "metadata": {},
   "outputs": [],
   "source": []
  },
  {
   "cell_type": "code",
   "execution_count": null,
   "id": "62701d21",
   "metadata": {},
   "outputs": [],
   "source": []
  },
  {
   "cell_type": "code",
   "execution_count": null,
   "id": "d0825638",
   "metadata": {},
   "outputs": [],
   "source": []
  },
  {
   "cell_type": "code",
   "execution_count": null,
   "id": "918353bb",
   "metadata": {},
   "outputs": [],
   "source": []
  },
  {
   "cell_type": "code",
   "execution_count": 95,
   "id": "f441b275",
   "metadata": {},
   "outputs": [],
   "source": [
    "import matplotlib.pyplot as plt"
   ]
  },
  {
   "cell_type": "code",
   "execution_count": 96,
   "id": "8561bf11",
   "metadata": {},
   "outputs": [
    {
     "name": "stdout",
     "output_type": "stream",
     "text": [
      "{0, 1, 2, 4}\n",
      "[0 0 0 0 0 0 0 0 0 0 0 0 0 0 0 0 0 0 0 0 0 0 0 0 0 0 0 0 0 0 0 0 0 0 0 0 0\n",
      " 0 0 0 0 0 0 1 1 1 1 1 1 1 1 1 1 1 1 1 1 1 1 1 1 1 1 1 1 1 1 1 1 1 1 1 1 1\n",
      " 1 1 1 1 1 1 1 1 1 1 1 1 1 1 1 1 1 1 1 1 1 1 1 1 1 1 2 2 2 2 2 2 2 2 2 2 2\n",
      " 2 2 2 2 2 2 2 2 2 2 2 2 2 2 2 2 2 2 2 2 2 2 2 2 2 2 2 2 2 2 2 2 2 4 4 4 4\n",
      " 4 4 4 4 4 4 4 4 4 4 4 4 4 4 4 4 4 4 4 4 4 4 4 4 4 4 4 4 4 4 4 4 4 4 4 4 4\n",
      " 4 4 4 4 4 4 4 4 4 4 4 4 4 4 4 4 4 4 4 4]\n",
      "{0, 2, 3}\n",
      "[0 0 0 0 0 0 0 0 0 0 0 0 0 0 0 0 0 0 0 0 0 2 2 2 2 2 2 2 2 2 2 2 2 2 2 2 2\n",
      " 2 2 2 2 2 2 2 2 2 2 2 2 2 2 2 2 2 2 2 2 2 2 2 2 2 2 2 2 2 2 2 2 2 2 2 2 2\n",
      " 2 2 2 2 2 2 2 2 2 2 2 2 2 2 2 2 2 2 2 2 2 2 2 2 2 2 2 2 2 2 2 2 2 2 3 3 3\n",
      " 3 3 3 3 3 3 3 3 3 3 3 3 3 3 3 3 3 3 3 3 3 3 3 3 3 3 3 3 3 3 3 3 3 3 3 3 3\n",
      " 3 3 3 3 3 3 3 3 3 3 3 3 3 3 3 3 3 3 3 3 3 3 3 3 3 3 3 3 3 3 3 3 3 3 3 3 3\n",
      " 3 3 3 3 3 3 3]\n",
      "{1, 3, 4}\n",
      "[1 1 1 1 1 1 1 1 1 1 1 1 1 1 1 1 1 1 1 1 1 1 1 1 1 1 1 1 1 1 1 1 1 1 1 1 1\n",
      " 1 1 1 1 1 1 1 1 1 1 1 1 1 1 1 1 1 1 1 1 1 1 1 1 1 1 1 1 1 1 1 1 1 1 1 1 1\n",
      " 1 1 1 1 1 1 1 1 1 1 1 1 1 1 1 1 1 1 1 1 1 4 4 4 4 4 4 4 4 4 4 4 4 4 4 4 4\n",
      " 4 4 4 4 4 4 4 4 4 4 4 4 4 4 3 3 3 3 3 3 3 3 3 3 3 3 3 3 3 3 3 3 3 3 3 3 3\n",
      " 3 3 3 3 3 3 3 3 3 3]\n",
      "{2, 4}\n",
      "[4 4 4 4 4 4 4 4 4 4 4 4 4 4 4 4 4 4 4 4 4 4 4 4 4 4 4 2 2 2 2 2 2 2 2 2 2\n",
      " 2 2 2 2 2 2 2 2 2 2 2 2 2 2 2 2 2 2 2 2 2 2 2 2 2 2 2 2 2 2 2 2 2 2 2 2 2\n",
      " 2 2 2 2 2 2 2 2 2 2 2 2 2 2 2 2 2 2 2 2 2 2 2 2 2 2 2 2 2 2 2 2 2 2 2 2 2\n",
      " 2 2 2 2 2 2 2 2 2 2 2 2 2 2 2 2 2 2 2 2 2 2 2 2 2 2 2 2 2 2 2 2 2 2 2 2 2\n",
      " 2 2 2 2 2 2 2 2 2 2 2 2 2 2 2 2 2 2 2 2 2 2 2 2 2 2 2 2 2 2 2 2 2 2 2 2 2\n",
      " 2 2 2 2 2 2 2 2 2 2 2 2]\n"
     ]
    }
   ],
   "source": [
    "for run in ['2','3','5','7']:\n",
    "    labels_run = np.load(f\"events/event_labels_run{run}.npy\")\n",
    "    print(set(labels_run))\n",
    "    print(labels_run)"
   ]
  },
  {
   "cell_type": "code",
   "execution_count": null,
   "id": "a43a5247",
   "metadata": {},
   "outputs": [],
   "source": [
    "counts,bins = np.histogram(np.concatenate([labels2,labels3,labels5,labels7]),bins=5)"
   ]
  },
  {
   "cell_type": "code",
   "execution_count": null,
   "id": "a2a63551",
   "metadata": {},
   "outputs": [],
   "source": [
    "counts,bins"
   ]
  },
  {
   "cell_type": "code",
   "execution_count": null,
   "id": "23501ce9",
   "metadata": {},
   "outputs": [],
   "source": [
    "counts[2] /sum(counts)"
   ]
  },
  {
   "cell_type": "code",
   "execution_count": null,
   "id": "80b54850",
   "metadata": {},
   "outputs": [],
   "source": [
    "plt.hist(np.concatenate([labels2,labels3,labels5,labels7]),bins=5)"
   ]
  },
  {
   "cell_type": "code",
   "execution_count": null,
   "id": "a8d9d1fc",
   "metadata": {},
   "outputs": [],
   "source": []
  },
  {
   "cell_type": "code",
   "execution_count": null,
   "id": "5d856f70",
   "metadata": {},
   "outputs": [],
   "source": [
    "plt.hist([0,1,2,5,0,2,3,1,1,5,3,5,2,2,2],bins=5)"
   ]
  },
  {
   "cell_type": "code",
   "execution_count": null,
   "id": "7df78229",
   "metadata": {},
   "outputs": [],
   "source": [
    "events[0].shape"
   ]
  },
  {
   "cell_type": "markdown",
   "id": "b464e973-8a4d-491b-ae66-7f8990da1f03",
   "metadata": {},
   "source": [
    "#### Combine epochs into one multi-dimensional array and create labels array"
   ]
  },
  {
   "cell_type": "code",
   "execution_count": null,
   "id": "55ab5ced-7cb0-445b-9abe-5e67e17f0e8f",
   "metadata": {
    "scrolled": false
   },
   "outputs": [],
   "source": [
    "print(\"event data epochs, channels, timesteps\", len(event_data), len(event_data[0]), len(event_data[0][0]))\n",
    "print(\"event lengths\", [event.shape[1] for event in event_data])\n",
    "\n",
    "event_data = np.stack(event_data)\n",
    "print(\"stacked shape\", event_data.shape)\n",
    "\n",
    "#Alternating binary labels for each consecutive event (0, 1, 0, 1, ...).\n",
    "event_labels = np.resize([0,1], len(event_data))"
   ]
  },
  {
   "cell_type": "markdown",
   "id": "857431e3-ce73-4e70-9ee7-5470a7bc9c43",
   "metadata": {},
   "source": [
    "## (optional) Split events into smaller slices to train and test a model to classify"
   ]
  },
  {
   "cell_type": "code",
   "execution_count": null,
   "id": "c6f46f08-c531-4f56-9946-1780e08322ab",
   "metadata": {},
   "outputs": [],
   "source": [
    "print(\"splitting\")\n",
    "#Split the event data into 5 second intervals (since signal is 10hz, that's 10*5=50 time steps)\n",
    "split_event_data = []\n",
    "split_event_labels = []\n",
    "n = 50\n",
    "for event, label in zip(event_data, event_labels):\n",
    "    num_parts = len(event[0]) // n\n",
    "    split_event_data.extend(np.split(event[:, :num_parts * n], num_parts, axis=1))\n",
    "    split_event_labels.extend([label] * num_parts)\n",
    "split_event_data = np.stack(split_event_data)\n",
    "split_event_labels = np.stack(split_event_labels)\n",
    "print(\"event data\", split_event_data.shape)\n",
    "print(\"event lengths\", [len(dat) for dat in split_event_data])\n",
    "print(\"event labels\", len(split_event_labels), split_event_labels)\n",
    "event_data = split_event_data\n",
    "print(\"event data shape\", event_data.shape)\n",
    "event_labels = split_event_labels"
   ]
  },
  {
   "cell_type": "markdown",
   "id": "64913416-d747-4ca6-a0bd-66019c243530",
   "metadata": {},
   "source": [
    "## (optional) Generate synthetic data to use to sanity check model performance"
   ]
  },
  {
   "cell_type": "code",
   "execution_count": null,
   "id": "4b44ca6d-1307-42e9-8f1f-aefe70d57588",
   "metadata": {},
   "outputs": [],
   "source": [
    "n_synthetic_events = len(event_data)\n",
    "group_a_frac = .5\n",
    "group_a_n = round(n_synthetic_events * group_a_frac)\n",
    "group_b_n = n_synthetic_events - group_a_n\n",
    "synthetic_event_labels = np.array([0]*group_a_n + [1]*group_b_n)\n",
    "group_b_idx = group_a_n #last idx of group a is n-1, first idx of group b is n\n",
    "\n",
    "print(\"len synthetic event labels:\", len(synthetic_event_labels))\n",
    "\n",
    "synthetic_events = []\n",
    "synthetic_event_dims = (1, 500)\n",
    "for event_label in synthetic_event_labels:\n",
    "    if event_label == 0:\n",
    "        synthetic_event = np.random.uniform(0,5, synthetic_event_dims)\n",
    "    else: \n",
    "        synthetic_event = np.random.uniform(10,15, synthetic_event_dims)\n",
    "    synthetic_events.append(synthetic_event)\n",
    "\n",
    "synthetic_event_data = np.stack(synthetic_events)\n",
    "\n",
    "noise_scale = 200000\n",
    "noise = (np.random.random(synthetic_event_data.shape) - np.array(.5)) * noise_scale\n",
    "synthetic_event_data += noise\n",
    "print(\"Shape of staked data:\", synthetic_event_data.shape)\n",
    "print(\"min,max of class 0\", np.min(synthetic_event_data[:][:][:group_b_idx], axis=0), np.max(synthetic_event_data[:][:][:group_b_idx], axis=0))\n",
    "print(\"min,max of class 1\", np.min(synthetic_event_data[:][:][group_b_idx:], axis=0), np.max(synthetic_event_data[:][:][group_b_idx:], axis=0))\n",
    "\n",
    "plt.hist(synthetic_event_data[synthetic_event_labels == 0].flatten(), bins=30, alpha=0.5, label='class 0', color='blue')\n",
    "plt.hist(synthetic_event_data[synthetic_event_labels == 1].flatten(), bins=30, alpha=0.5, label='class 1', color='red')"
   ]
  },
  {
   "cell_type": "code",
   "execution_count": null,
   "id": "73ad0d90-7998-48b8-8be2-491be54c0d7b",
   "metadata": {},
   "outputs": [],
   "source": [
    "print(\"noise shape\", synthetic_event_data.shape)\n",
    "stds = np.std(synthetic_event_data, axis=1)\n",
    "print(\"std shape\", stds.shape)\n",
    "print(\"stacked shape\", np.stack([stds, stds], axis=2).shape)"
   ]
  },
  {
   "cell_type": "code",
   "execution_count": null,
   "id": "9f9bf35f-589a-4dac-9849-8e8a73c06983",
   "metadata": {},
   "outputs": [],
   "source": [
    "event_data = synthetic_event_data\n",
    "event_labels = synthetic_event_labels"
   ]
  },
  {
   "cell_type": "markdown",
   "id": "51a52a6e-7445-43bb-a3de-047b513e2677",
   "metadata": {},
   "source": [
    "## Generate features"
   ]
  },
  {
   "cell_type": "code",
   "execution_count": null,
   "id": "793e2601-78b7-43b0-b81f-5947fc050038",
   "metadata": {},
   "outputs": [],
   "source": [
    "print(\"Class proportions\", np.bincount(event_labels)/len(event_labels))"
   ]
  },
  {
   "cell_type": "code",
   "execution_count": null,
   "id": "92a96d0f-a3ac-4667-968c-6b6020250e0b",
   "metadata": {},
   "outputs": [],
   "source": [
    "event_data.shape"
   ]
  },
  {
   "cell_type": "code",
   "execution_count": null,
   "id": "876e3dcf-a29b-4f1d-9a96-d5bcc0256e74",
   "metadata": {},
   "outputs": [],
   "source": [
    "data_features = featurize.summary_features(event_data, [\"mean\", \"std\"], \"channels\")\n",
    "print(\"Shape of features\", data_features.shape)\n",
    "#print(data_features)"
   ]
  },
  {
   "cell_type": "markdown",
   "id": "61d1e39d-a85c-48c8-9ed7-e8bdbae0ed2e",
   "metadata": {},
   "source": [
    "## Train and evaluate models on features"
   ]
  },
  {
   "cell_type": "code",
   "execution_count": null,
   "id": "4f8ee2fa-728c-4a3f-9fbb-b4f43756c5d4",
   "metadata": {},
   "outputs": [],
   "source": [
    "models, test_accs, train_accs, hps, stats = sklearn_models.machine_learn(\n",
    "    nirs=data_features,\n",
    "    labels=event_labels,\n",
    "    groups=None,\n",
    "    model=\"ann\",\n",
    "    normalize=False,\n",
    "    random_state=None,\n",
    "    output_folder=\"outputs\",\n",
    "    n_inner_splits=1,\n",
    "    n_outer_splits=2\n",
    ")\n",
    "print(accs)\n",
    "print(stats)"
   ]
  },
  {
   "cell_type": "code",
   "execution_count": null,
   "id": "4deee102-adae-48c8-87c4-5667d7f22d9d",
   "metadata": {},
   "outputs": [],
   "source": [
    "data_features"
   ]
  },
  {
   "cell_type": "code",
   "execution_count": null,
   "id": "575635de-d146-4c13-8561-b06bf96d48f7",
   "metadata": {},
   "outputs": [],
   "source": [
    "idxs = {\"test\": [1, 3, 4],\n",
    "        \"train\": [0, 2]}\n",
    "\n",
    "for i, model in enumerate(models):\n",
    "    print(\"model:\", i)\n",
    "    for type_, idx_list in idxs.items():\n",
    "        print(\"type:\", type_, idx_list)\n",
    "        print(\"labels\", event_labels[idx_list])\n",
    "        print(\"predictions\", model.predict(data_features[idx_list]))\n",
    "        print(\"accuracy\", accuracy_score(event_labels[idx_list], model.predict(data_features[idx_list])))"
   ]
  },
  {
   "cell_type": "code",
   "execution_count": null,
   "id": "f68dfe4c-7337-4260-8770-8ec9238e67ce",
   "metadata": {},
   "outputs": [],
   "source": [
    "event_data.shape"
   ]
  },
  {
   "cell_type": "markdown",
   "id": "194ba7c7-12de-4107-9900-f59f93e41c9e",
   "metadata": {},
   "source": [
    "## Torch models"
   ]
  },
  {
   "cell_type": "code",
   "execution_count": null,
   "id": "3852d1ef-eebf-4115-8571-ce69e0870359",
   "metadata": {},
   "outputs": [],
   "source": [
    "model = torch_models.MLP()\n",
    "optimizer = torch.optim.Adam(model.parameters(), lr=0.000001)\n",
    "loss_func = torch.nn.CrossEntropyLoss()\n",
    "trainer = torch_models.Trainer(model, optimizer, loss_func)"
   ]
  },
  {
   "cell_type": "code",
   "execution_count": null,
   "id": "be01c438-6b37-41bc-a190-b873d42ec71c",
   "metadata": {},
   "outputs": [],
   "source": [
    "event_labels"
   ]
  },
  {
   "cell_type": "code",
   "execution_count": null,
   "id": "8cf26415-98b2-49df-80b5-f256d77d9e06",
   "metadata": {},
   "outputs": [],
   "source": [
    "torch.tensor(event_labels, dtype=torch.float64)"
   ]
  },
  {
   "cell_type": "code",
   "execution_count": null,
   "id": "9662164d-6061-424f-902b-6a085d18824b",
   "metadata": {},
   "outputs": [],
   "source": [
    "flattened_inputs = event_data.reshape(5, -1)\n",
    "print(flattened_inputs.shape)\n",
    "train_dataloader = [(torch.tensor(flattened_inputs[:4], dtype=torch.float32), torch.tensor(event_labels[:4]))]\n",
    "test_dataloader = [(torch.tensor(flattened_inputs[4:], dtype=torch.float32), torch.tensor(event_labels[4:]))]"
   ]
  },
  {
   "cell_type": "code",
   "execution_count": null,
   "id": "6380aa2d-9cfc-4c41-b0a2-8c1213c521b2",
   "metadata": {},
   "outputs": [],
   "source": [
    "test_dataloader[0][0].shape"
   ]
  },
  {
   "cell_type": "code",
   "execution_count": null,
   "id": "ef6a8c4b-a919-4648-a667-fa54a2a8637a",
   "metadata": {},
   "outputs": [],
   "source": [
    "trainer.train(train_dataloader, test_dataloader, 500, 1, 1)"
   ]
  },
  {
   "cell_type": "code",
   "execution_count": null,
   "id": "75005e51-fcee-4137-a605-f376f87aa249",
   "metadata": {},
   "outputs": [],
   "source": [
    "model(train_dataloader[0][0])"
   ]
  },
  {
   "cell_type": "code",
   "execution_count": null,
   "id": "f86e5cbb",
   "metadata": {},
   "outputs": [],
   "source": []
  },
  {
   "cell_type": "code",
   "execution_count": null,
   "id": "def90c95",
   "metadata": {},
   "outputs": [],
   "source": []
  },
  {
   "cell_type": "code",
   "execution_count": null,
   "id": "ccf95ef8",
   "metadata": {},
   "outputs": [],
   "source": []
  }
 ],
 "metadata": {
  "kernelspec": {
   "display_name": "Python 3 (ipykernel)",
   "language": "python",
   "name": "python3"
  },
  "language_info": {
   "codemirror_mode": {
    "name": "ipython",
    "version": 3
   },
   "file_extension": ".py",
   "mimetype": "text/x-python",
   "name": "python",
   "nbconvert_exporter": "python",
   "pygments_lexer": "ipython3",
   "version": "3.11.4"
  }
 },
 "nbformat": 4,
 "nbformat_minor": 5
}
